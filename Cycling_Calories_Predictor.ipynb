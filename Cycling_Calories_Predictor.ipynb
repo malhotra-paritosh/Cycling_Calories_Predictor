{
 "cells": [
  {
   "cell_type": "code",
   "execution_count": 1,
   "metadata": {},
   "outputs": [],
   "source": [
    "import seaborn as sns\n",
    "import numpy as np\n",
    "import pandas as pd\n",
    "from matplotlib import pyplot as plt\n",
    "from sklearn.preprocessing import StandardScaler\n",
    "from sklearn import svm\n",
    "from sklearn.model_selection import train_test_split\n",
    "from sklearn import metrics\n",
    "from sklearn.ensemble import RandomForestRegressor\n",
    "from sklearn.tree import DecisionTreeRegressor\n",
    "from sklearn.linear_model import LassoCV\n",
    "from sklearn.linear_model import ElasticNetCV"
   ]
  },
  {
   "cell_type": "code",
   "execution_count": 2,
   "metadata": {},
   "outputs": [],
   "source": [
    "df = pd.read_excel('cycling_data.xlsx')"
   ]
  },
  {
   "cell_type": "code",
   "execution_count": 3,
   "metadata": {},
   "outputs": [
    {
     "data": {
      "text/html": [
       "<div>\n",
       "<style scoped>\n",
       "    .dataframe tbody tr th:only-of-type {\n",
       "        vertical-align: middle;\n",
       "    }\n",
       "\n",
       "    .dataframe tbody tr th {\n",
       "        vertical-align: top;\n",
       "    }\n",
       "\n",
       "    .dataframe thead th {\n",
       "        text-align: right;\n",
       "    }\n",
       "</style>\n",
       "<table border=\"1\" class=\"dataframe\">\n",
       "  <thead>\n",
       "    <tr style=\"text-align: right;\">\n",
       "      <th></th>\n",
       "      <th>Date</th>\n",
       "      <th>Time(min)</th>\n",
       "      <th>Time(sec)</th>\n",
       "      <th>Average Speed</th>\n",
       "      <th>Distance(km)</th>\n",
       "      <th>Av. Heart rate</th>\n",
       "      <th>Calories Burnt</th>\n",
       "    </tr>\n",
       "  </thead>\n",
       "  <tbody>\n",
       "    <tr>\n",
       "      <th>0</th>\n",
       "      <td>2020-05-26</td>\n",
       "      <td>41</td>\n",
       "      <td>2</td>\n",
       "      <td>16.15</td>\n",
       "      <td>11.04</td>\n",
       "      <td>174</td>\n",
       "      <td>601</td>\n",
       "    </tr>\n",
       "    <tr>\n",
       "      <th>1</th>\n",
       "      <td>2020-05-27</td>\n",
       "      <td>49</td>\n",
       "      <td>43</td>\n",
       "      <td>13.79</td>\n",
       "      <td>11.42</td>\n",
       "      <td>172</td>\n",
       "      <td>707</td>\n",
       "    </tr>\n",
       "    <tr>\n",
       "      <th>2</th>\n",
       "      <td>2020-05-30</td>\n",
       "      <td>46</td>\n",
       "      <td>42</td>\n",
       "      <td>14.60</td>\n",
       "      <td>11.36</td>\n",
       "      <td>144</td>\n",
       "      <td>547</td>\n",
       "    </tr>\n",
       "    <tr>\n",
       "      <th>3</th>\n",
       "      <td>2020-06-01</td>\n",
       "      <td>39</td>\n",
       "      <td>43</td>\n",
       "      <td>16.35</td>\n",
       "      <td>10.81</td>\n",
       "      <td>165</td>\n",
       "      <td>545</td>\n",
       "    </tr>\n",
       "    <tr>\n",
       "      <th>4</th>\n",
       "      <td>2020-06-02</td>\n",
       "      <td>42</td>\n",
       "      <td>33</td>\n",
       "      <td>16.16</td>\n",
       "      <td>11.45</td>\n",
       "      <td>173</td>\n",
       "      <td>613</td>\n",
       "    </tr>\n",
       "  </tbody>\n",
       "</table>\n",
       "</div>"
      ],
      "text/plain": [
       "        Date  Time(min)  Time(sec)  Average Speed  Distance(km)  \\\n",
       "0 2020-05-26         41          2          16.15         11.04   \n",
       "1 2020-05-27         49         43          13.79         11.42   \n",
       "2 2020-05-30         46         42          14.60         11.36   \n",
       "3 2020-06-01         39         43          16.35         10.81   \n",
       "4 2020-06-02         42         33          16.16         11.45   \n",
       "\n",
       "   Av. Heart rate  Calories Burnt  \n",
       "0             174             601  \n",
       "1             172             707  \n",
       "2             144             547  \n",
       "3             165             545  \n",
       "4             173             613  "
      ]
     },
     "execution_count": 3,
     "metadata": {},
     "output_type": "execute_result"
    }
   ],
   "source": [
    "df.head()"
   ]
  },
  {
   "cell_type": "code",
   "execution_count": 4,
   "metadata": {},
   "outputs": [
    {
     "data": {
      "text/plain": [
       "Index(['Date', 'Time(min)', 'Time(sec)', 'Average Speed', 'Distance(km)',\n",
       "       'Av. Heart rate', 'Calories Burnt'],\n",
       "      dtype='object')"
      ]
     },
     "execution_count": 4,
     "metadata": {},
     "output_type": "execute_result"
    }
   ],
   "source": [
    "df.columns"
   ]
  },
  {
   "cell_type": "code",
   "execution_count": 5,
   "metadata": {},
   "outputs": [],
   "source": [
    "df['total_time'] = df['Time(min)'] + df['Time(sec)']/60"
   ]
  },
  {
   "cell_type": "code",
   "execution_count": 6,
   "metadata": {},
   "outputs": [
    {
     "data": {
      "text/html": [
       "<div>\n",
       "<style scoped>\n",
       "    .dataframe tbody tr th:only-of-type {\n",
       "        vertical-align: middle;\n",
       "    }\n",
       "\n",
       "    .dataframe tbody tr th {\n",
       "        vertical-align: top;\n",
       "    }\n",
       "\n",
       "    .dataframe thead th {\n",
       "        text-align: right;\n",
       "    }\n",
       "</style>\n",
       "<table border=\"1\" class=\"dataframe\">\n",
       "  <thead>\n",
       "    <tr style=\"text-align: right;\">\n",
       "      <th></th>\n",
       "      <th>Date</th>\n",
       "      <th>Time(min)</th>\n",
       "      <th>Time(sec)</th>\n",
       "      <th>Average Speed</th>\n",
       "      <th>Distance(km)</th>\n",
       "      <th>Av. Heart rate</th>\n",
       "      <th>Calories Burnt</th>\n",
       "      <th>total_time</th>\n",
       "    </tr>\n",
       "  </thead>\n",
       "  <tbody>\n",
       "    <tr>\n",
       "      <th>0</th>\n",
       "      <td>2020-05-26</td>\n",
       "      <td>41</td>\n",
       "      <td>2</td>\n",
       "      <td>16.15</td>\n",
       "      <td>11.04</td>\n",
       "      <td>174</td>\n",
       "      <td>601</td>\n",
       "      <td>41.033333</td>\n",
       "    </tr>\n",
       "    <tr>\n",
       "      <th>1</th>\n",
       "      <td>2020-05-27</td>\n",
       "      <td>49</td>\n",
       "      <td>43</td>\n",
       "      <td>13.79</td>\n",
       "      <td>11.42</td>\n",
       "      <td>172</td>\n",
       "      <td>707</td>\n",
       "      <td>49.716667</td>\n",
       "    </tr>\n",
       "    <tr>\n",
       "      <th>2</th>\n",
       "      <td>2020-05-30</td>\n",
       "      <td>46</td>\n",
       "      <td>42</td>\n",
       "      <td>14.60</td>\n",
       "      <td>11.36</td>\n",
       "      <td>144</td>\n",
       "      <td>547</td>\n",
       "      <td>46.700000</td>\n",
       "    </tr>\n",
       "    <tr>\n",
       "      <th>3</th>\n",
       "      <td>2020-06-01</td>\n",
       "      <td>39</td>\n",
       "      <td>43</td>\n",
       "      <td>16.35</td>\n",
       "      <td>10.81</td>\n",
       "      <td>165</td>\n",
       "      <td>545</td>\n",
       "      <td>39.716667</td>\n",
       "    </tr>\n",
       "    <tr>\n",
       "      <th>4</th>\n",
       "      <td>2020-06-02</td>\n",
       "      <td>42</td>\n",
       "      <td>33</td>\n",
       "      <td>16.16</td>\n",
       "      <td>11.45</td>\n",
       "      <td>173</td>\n",
       "      <td>613</td>\n",
       "      <td>42.550000</td>\n",
       "    </tr>\n",
       "  </tbody>\n",
       "</table>\n",
       "</div>"
      ],
      "text/plain": [
       "        Date  Time(min)  Time(sec)  Average Speed  Distance(km)  \\\n",
       "0 2020-05-26         41          2          16.15         11.04   \n",
       "1 2020-05-27         49         43          13.79         11.42   \n",
       "2 2020-05-30         46         42          14.60         11.36   \n",
       "3 2020-06-01         39         43          16.35         10.81   \n",
       "4 2020-06-02         42         33          16.16         11.45   \n",
       "\n",
       "   Av. Heart rate  Calories Burnt  total_time  \n",
       "0             174             601   41.033333  \n",
       "1             172             707   49.716667  \n",
       "2             144             547   46.700000  \n",
       "3             165             545   39.716667  \n",
       "4             173             613   42.550000  "
      ]
     },
     "execution_count": 6,
     "metadata": {},
     "output_type": "execute_result"
    }
   ],
   "source": [
    "df.head()"
   ]
  },
  {
   "cell_type": "code",
   "execution_count": 7,
   "metadata": {},
   "outputs": [],
   "source": [
    "cleaned_df = df[['Average Speed', 'Distance(km)',\n",
    "       'Av. Heart rate','total_time', 'Calories Burnt']]"
   ]
  },
  {
   "cell_type": "code",
   "execution_count": 8,
   "metadata": {},
   "outputs": [
    {
     "data": {
      "text/html": [
       "<div>\n",
       "<style scoped>\n",
       "    .dataframe tbody tr th:only-of-type {\n",
       "        vertical-align: middle;\n",
       "    }\n",
       "\n",
       "    .dataframe tbody tr th {\n",
       "        vertical-align: top;\n",
       "    }\n",
       "\n",
       "    .dataframe thead th {\n",
       "        text-align: right;\n",
       "    }\n",
       "</style>\n",
       "<table border=\"1\" class=\"dataframe\">\n",
       "  <thead>\n",
       "    <tr style=\"text-align: right;\">\n",
       "      <th></th>\n",
       "      <th>Average Speed</th>\n",
       "      <th>Distance(km)</th>\n",
       "      <th>Av. Heart rate</th>\n",
       "      <th>total_time</th>\n",
       "      <th>Calories Burnt</th>\n",
       "    </tr>\n",
       "  </thead>\n",
       "  <tbody>\n",
       "    <tr>\n",
       "      <th>0</th>\n",
       "      <td>16.15</td>\n",
       "      <td>11.04</td>\n",
       "      <td>174</td>\n",
       "      <td>41.033333</td>\n",
       "      <td>601</td>\n",
       "    </tr>\n",
       "    <tr>\n",
       "      <th>1</th>\n",
       "      <td>13.79</td>\n",
       "      <td>11.42</td>\n",
       "      <td>172</td>\n",
       "      <td>49.716667</td>\n",
       "      <td>707</td>\n",
       "    </tr>\n",
       "    <tr>\n",
       "      <th>2</th>\n",
       "      <td>14.60</td>\n",
       "      <td>11.36</td>\n",
       "      <td>144</td>\n",
       "      <td>46.700000</td>\n",
       "      <td>547</td>\n",
       "    </tr>\n",
       "    <tr>\n",
       "      <th>3</th>\n",
       "      <td>16.35</td>\n",
       "      <td>10.81</td>\n",
       "      <td>165</td>\n",
       "      <td>39.716667</td>\n",
       "      <td>545</td>\n",
       "    </tr>\n",
       "    <tr>\n",
       "      <th>4</th>\n",
       "      <td>16.16</td>\n",
       "      <td>11.45</td>\n",
       "      <td>173</td>\n",
       "      <td>42.550000</td>\n",
       "      <td>613</td>\n",
       "    </tr>\n",
       "  </tbody>\n",
       "</table>\n",
       "</div>"
      ],
      "text/plain": [
       "   Average Speed  Distance(km)  Av. Heart rate  total_time  Calories Burnt\n",
       "0          16.15         11.04             174   41.033333             601\n",
       "1          13.79         11.42             172   49.716667             707\n",
       "2          14.60         11.36             144   46.700000             547\n",
       "3          16.35         10.81             165   39.716667             545\n",
       "4          16.16         11.45             173   42.550000             613"
      ]
     },
     "execution_count": 8,
     "metadata": {},
     "output_type": "execute_result"
    }
   ],
   "source": [
    "cleaned_df.head()"
   ]
  },
  {
   "cell_type": "code",
   "execution_count": 9,
   "metadata": {},
   "outputs": [],
   "source": [
    "correlation_df = cleaned_df.corr()"
   ]
  },
  {
   "cell_type": "code",
   "execution_count": 119,
   "metadata": {},
   "outputs": [
    {
     "data": {
      "text/plain": [
       "<matplotlib.axes._subplots.AxesSubplot at 0x2369e517548>"
      ]
     },
     "execution_count": 119,
     "metadata": {},
     "output_type": "execute_result"
    },
    {
     "data": {
      "image/png": "[encoded data removed]",
      "text/plain": [
       "<Figure size 1080x576 with 2 Axes>"
      ]
     },
     "metadata": {
      "needs_background": "light"
     },
     "output_type": "display_data"
    }
   ],
   "source": [
    "plt.figure(figsize=(15, 8))\n",
    "sns.heatmap(correlation_df, cmap=\"YlGnBu\", linewidths=.5, annot=True, fmt='f')"
   ]
  },
  {
   "cell_type": "code",
   "execution_count": 11,
   "metadata": {},
   "outputs": [
    {
     "data": {
      "text/plain": [
       "Index(['Average Speed', 'Distance(km)', 'Av. Heart rate', 'total_time',\n",
       "       'Calories Burnt'],\n",
       "      dtype='object')"
      ]
     },
     "execution_count": 11,
     "metadata": {},
     "output_type": "execute_result"
    }
   ],
   "source": [
    "cleaned_df.columns"
   ]
  },
  {
   "cell_type": "code",
   "execution_count": 12,
   "metadata": {},
   "outputs": [],
   "source": [
    "X = cleaned_df.drop('Calories Burnt', axis=1)\n",
    "y = cleaned_df['Calories Burnt']"
   ]
  },
  {
   "cell_type": "code",
   "execution_count": 13,
   "metadata": {},
   "outputs": [
    {
     "data": {
      "text/html": [
       "<div>\n",
       "<style scoped>\n",
       "    .dataframe tbody tr th:only-of-type {\n",
       "        vertical-align: middle;\n",
       "    }\n",
       "\n",
       "    .dataframe tbody tr th {\n",
       "        vertical-align: top;\n",
       "    }\n",
       "\n",
       "    .dataframe thead th {\n",
       "        text-align: right;\n",
       "    }\n",
       "</style>\n",
       "<table border=\"1\" class=\"dataframe\">\n",
       "  <thead>\n",
       "    <tr style=\"text-align: right;\">\n",
       "      <th></th>\n",
       "      <th>Average Speed</th>\n",
       "      <th>Distance(km)</th>\n",
       "      <th>Av. Heart rate</th>\n",
       "      <th>total_time</th>\n",
       "    </tr>\n",
       "  </thead>\n",
       "  <tbody>\n",
       "    <tr>\n",
       "      <th>0</th>\n",
       "      <td>16.15</td>\n",
       "      <td>11.04</td>\n",
       "      <td>174</td>\n",
       "      <td>41.033333</td>\n",
       "    </tr>\n",
       "    <tr>\n",
       "      <th>1</th>\n",
       "      <td>13.79</td>\n",
       "      <td>11.42</td>\n",
       "      <td>172</td>\n",
       "      <td>49.716667</td>\n",
       "    </tr>\n",
       "    <tr>\n",
       "      <th>2</th>\n",
       "      <td>14.60</td>\n",
       "      <td>11.36</td>\n",
       "      <td>144</td>\n",
       "      <td>46.700000</td>\n",
       "    </tr>\n",
       "    <tr>\n",
       "      <th>3</th>\n",
       "      <td>16.35</td>\n",
       "      <td>10.81</td>\n",
       "      <td>165</td>\n",
       "      <td>39.716667</td>\n",
       "    </tr>\n",
       "    <tr>\n",
       "      <th>4</th>\n",
       "      <td>16.16</td>\n",
       "      <td>11.45</td>\n",
       "      <td>173</td>\n",
       "      <td>42.550000</td>\n",
       "    </tr>\n",
       "  </tbody>\n",
       "</table>\n",
       "</div>"
      ],
      "text/plain": [
       "   Average Speed  Distance(km)  Av. Heart rate  total_time\n",
       "0          16.15         11.04             174   41.033333\n",
       "1          13.79         11.42             172   49.716667\n",
       "2          14.60         11.36             144   46.700000\n",
       "3          16.35         10.81             165   39.716667\n",
       "4          16.16         11.45             173   42.550000"
      ]
     },
     "execution_count": 13,
     "metadata": {},
     "output_type": "execute_result"
    }
   ],
   "source": [
    "X.head()"
   ]
  },
  {
   "cell_type": "code",
   "execution_count": 14,
   "metadata": {},
   "outputs": [
    {
     "data": {
      "text/plain": [
       "0    601\n",
       "1    707\n",
       "2    547\n",
       "3    545\n",
       "4    613\n",
       "Name: Calories Burnt, dtype: int64"
      ]
     },
     "execution_count": 14,
     "metadata": {},
     "output_type": "execute_result"
    }
   ],
   "source": [
    "y.head()"
   ]
  },
  {
   "cell_type": "code",
   "execution_count": 30,
   "metadata": {},
   "outputs": [],
   "source": [
    "X_train, X_test, y_train, y_test = train_test_split(X, y, test_size=0.2, random_state=42)"
   ]
  },
  {
   "cell_type": "code",
   "execution_count": 31,
   "metadata": {},
   "outputs": [
    {
     "data": {
      "text/plain": [
       "pandas.core.series.Series"
      ]
     },
     "execution_count": 31,
     "metadata": {},
     "output_type": "execute_result"
    }
   ],
   "source": [
    "type(y_train)"
   ]
  },
  {
   "cell_type": "code",
   "execution_count": 32,
   "metadata": {},
   "outputs": [
    {
     "data": {
      "text/html": [
       "<div>\n",
       "<style scoped>\n",
       "    .dataframe tbody tr th:only-of-type {\n",
       "        vertical-align: middle;\n",
       "    }\n",
       "\n",
       "    .dataframe tbody tr th {\n",
       "        vertical-align: top;\n",
       "    }\n",
       "\n",
       "    .dataframe thead th {\n",
       "        text-align: right;\n",
       "    }\n",
       "</style>\n",
       "<table border=\"1\" class=\"dataframe\">\n",
       "  <thead>\n",
       "    <tr style=\"text-align: right;\">\n",
       "      <th></th>\n",
       "      <th>Average Speed</th>\n",
       "      <th>Distance(km)</th>\n",
       "      <th>Av. Heart rate</th>\n",
       "      <th>total_time</th>\n",
       "    </tr>\n",
       "  </thead>\n",
       "  <tbody>\n",
       "    <tr>\n",
       "      <th>12</th>\n",
       "      <td>18.33</td>\n",
       "      <td>15.03</td>\n",
       "      <td>168</td>\n",
       "      <td>49.200000</td>\n",
       "    </tr>\n",
       "    <tr>\n",
       "      <th>4</th>\n",
       "      <td>16.16</td>\n",
       "      <td>11.45</td>\n",
       "      <td>173</td>\n",
       "      <td>42.550000</td>\n",
       "    </tr>\n",
       "    <tr>\n",
       "      <th>37</th>\n",
       "      <td>14.14</td>\n",
       "      <td>4.32</td>\n",
       "      <td>112</td>\n",
       "      <td>18.383333</td>\n",
       "    </tr>\n",
       "    <tr>\n",
       "      <th>8</th>\n",
       "      <td>16.63</td>\n",
       "      <td>10.90</td>\n",
       "      <td>170</td>\n",
       "      <td>39.366667</td>\n",
       "    </tr>\n",
       "    <tr>\n",
       "      <th>3</th>\n",
       "      <td>16.35</td>\n",
       "      <td>10.81</td>\n",
       "      <td>165</td>\n",
       "      <td>39.716667</td>\n",
       "    </tr>\n",
       "  </tbody>\n",
       "</table>\n",
       "</div>"
      ],
      "text/plain": [
       "    Average Speed  Distance(km)  Av. Heart rate  total_time\n",
       "12          18.33         15.03             168   49.200000\n",
       "4           16.16         11.45             173   42.550000\n",
       "37          14.14          4.32             112   18.383333\n",
       "8           16.63         10.90             170   39.366667\n",
       "3           16.35         10.81             165   39.716667"
      ]
     },
     "execution_count": 32,
     "metadata": {},
     "output_type": "execute_result"
    }
   ],
   "source": [
    "X_train[0:5]"
   ]
  },
  {
   "cell_type": "code",
   "execution_count": 33,
   "metadata": {},
   "outputs": [],
   "source": [
    "svm_reg = svm.SVR()\n",
    "rfr_reg = RandomForestRegressor()\n",
    "dt_reg = DecisionTreeRegressor()\n",
    "lasso_reg = LassoCV()\n",
    "elastic_reg = ElasticNetCV()"
   ]
  },
  {
   "cell_type": "code",
   "execution_count": 34,
   "metadata": {},
   "outputs": [
    {
     "data": {
      "text/plain": [
       "ElasticNetCV(alphas=None, copy_X=True, cv=None, eps=0.001, fit_intercept=True,\n",
       "             l1_ratio=0.5, max_iter=1000, n_alphas=100, n_jobs=None,\n",
       "             normalize=False, positive=False, precompute='auto',\n",
       "             random_state=None, selection='cyclic', tol=0.0001, verbose=0)"
      ]
     },
     "execution_count": 34,
     "metadata": {},
     "output_type": "execute_result"
    }
   ],
   "source": [
    "svm_reg.fit(X_train, y_train.ravel())\n",
    "rfr_reg.fit(X_train, y_train.ravel())\n",
    "dt_reg.fit(X_train, y_train.ravel())\n",
    "lasso_reg.fit(X_train, y_train.ravel())\n",
    "elastic_reg.fit(X_train, y_train.ravel())"
   ]
  },
  {
   "cell_type": "code",
   "execution_count": 35,
   "metadata": {},
   "outputs": [],
   "source": [
    "y_pred_svm = svm_reg.predict(X_test)\n",
    "y_pred_rfr = rfr_reg.predict(X_test)\n",
    "y_pred_dt = dt_reg.predict(X_test)\n",
    "y_pred_lasso = lasso_reg.predict(X_test)\n",
    "y_pred_elastic = elastic_reg.predict(X_test)"
   ]
  },
  {
   "cell_type": "code",
   "execution_count": 36,
   "metadata": {},
   "outputs": [],
   "source": [
    "results_dict = dict()"
   ]
  },
  {
   "cell_type": "code",
   "execution_count": 68,
   "metadata": {},
   "outputs": [],
   "source": [
    "def make_pred_dict(results_dict, y_test, y_pred, type):\n",
    "    mae = metrics.mean_absolute_error(y_test, y_pred)\n",
    "    mse = metrics.mean_squared_error(y_test, y_pred)\n",
    "    r2 = metrics.r2_score(y_test, y_pred)\n",
    "    \n",
    "    temp_dict = dict()\n",
    "    temp_dict['MAE'] = mae\n",
    "    temp_dict['MSE'] = mse\n",
    "    temp_dict['R2'] = r2\n",
    "    \n",
    "    results_dict[type] = temp_dict\n",
    "    "
   ]
  },
  {
   "cell_type": "code",
   "execution_count": 69,
   "metadata": {},
   "outputs": [],
   "source": [
    "make_pred_dict(results_dict, y_test, y_pred_svm, 'SVM')\n",
    "make_pred_dict(results_dict, y_test, y_pred_rfr, 'RandomForest')\n",
    "make_pred_dict(results_dict, y_test, y_pred_dt, 'DecisionTree')\n",
    "make_pred_dict(results_dict, y_test, y_pred_lasso, 'LassoCV')\n",
    "make_pred_dict(results_dict, y_test, y_pred_elastic, 'ElasticCV')"
   ]
  },
  {
   "cell_type": "code",
   "execution_count": 70,
   "metadata": {},
   "outputs": [],
   "source": [
    "results_df = pd.DataFrame(results_dict)"
   ]
  },
  {
   "cell_type": "code",
   "execution_count": 85,
   "metadata": {
    "scrolled": true
   },
   "outputs": [
    {
     "data": {
      "text/html": [
       "<div>\n",
       "<style scoped>\n",
       "    .dataframe tbody tr th:only-of-type {\n",
       "        vertical-align: middle;\n",
       "    }\n",
       "\n",
       "    .dataframe tbody tr th {\n",
       "        vertical-align: top;\n",
       "    }\n",
       "\n",
       "    .dataframe thead th {\n",
       "        text-align: right;\n",
       "    }\n",
       "</style>\n",
       "<table border=\"1\" class=\"dataframe\">\n",
       "  <thead>\n",
       "    <tr style=\"text-align: right;\">\n",
       "      <th></th>\n",
       "      <th>MAE</th>\n",
       "      <th>MSE</th>\n",
       "      <th>R2</th>\n",
       "    </tr>\n",
       "  </thead>\n",
       "  <tbody>\n",
       "    <tr>\n",
       "      <th>SVM</th>\n",
       "      <td>63.045471</td>\n",
       "      <td>6542.788908</td>\n",
       "      <td>-0.065330</td>\n",
       "    </tr>\n",
       "    <tr>\n",
       "      <th>RandomForest</th>\n",
       "      <td>27.120000</td>\n",
       "      <td>1099.287900</td>\n",
       "      <td>0.821008</td>\n",
       "    </tr>\n",
       "    <tr>\n",
       "      <th>DecisionTree</th>\n",
       "      <td>32.300000</td>\n",
       "      <td>1255.900000</td>\n",
       "      <td>0.795508</td>\n",
       "    </tr>\n",
       "    <tr>\n",
       "      <th>LassoCV</th>\n",
       "      <td>7.798922</td>\n",
       "      <td>101.336582</td>\n",
       "      <td>0.983500</td>\n",
       "    </tr>\n",
       "    <tr>\n",
       "      <th>ElasticCV</th>\n",
       "      <td>7.659592</td>\n",
       "      <td>94.066550</td>\n",
       "      <td>0.984684</td>\n",
       "    </tr>\n",
       "  </tbody>\n",
       "</table>\n",
       "</div>"
      ],
      "text/plain": [
       "                    MAE          MSE        R2\n",
       "SVM           63.045471  6542.788908 -0.065330\n",
       "RandomForest  27.120000  1099.287900  0.821008\n",
       "DecisionTree  32.300000  1255.900000  0.795508\n",
       "LassoCV        7.798922   101.336582  0.983500\n",
       "ElasticCV      7.659592    94.066550  0.984684"
      ]
     },
     "execution_count": 85,
     "metadata": {},
     "output_type": "execute_result"
    }
   ],
   "source": [
    "results_df"
   ]
  },
  {
   "cell_type": "code",
   "execution_count": 102,
   "metadata": {},
   "outputs": [],
   "source": [
    "mae_df = results_df[['MAE']]"
   ]
  },
  {
   "cell_type": "code",
   "execution_count": 111,
   "metadata": {
    "scrolled": true
   },
   "outputs": [
    {
     "data": {
      "text/plain": [
       "<seaborn.axisgrid.FacetGrid at 0x2369b9eba48>"
      ]
     },
     "execution_count": 111,
     "metadata": {},
     "output_type": "execute_result"
    },
    {
     "data": {
      "text/plain": [
       "<Figure size 2880x1440 with 0 Axes>"
      ]
     },
     "metadata": {},
     "output_type": "display_data"
    },
    {
     "data": {
      "image/png": "[encoded data removed]",
      "text/plain": [
       "<Figure size 417.75x360 with 1 Axes>"
      ]
     },
     "metadata": {
      "needs_background": "light"
     },
     "output_type": "display_data"
    }
   ],
   "source": [
    "plt.figure(figsize=(40,20))\n",
    "sns.relplot(data=mae_df, size='MAE', sizes=(10,100))"
   ]
  },
  {
   "cell_type": "code",
   "execution_count": 124,
   "metadata": {},
   "outputs": [],
   "source": [
    "sample = np.array([20.81, 18.23, 163, 52.6])"
   ]
  },
  {
   "cell_type": "code",
   "execution_count": 127,
   "metadata": {},
   "outputs": [
    {
     "data": {
      "text/plain": [
       "array([694.1865602])"
      ]
     },
     "execution_count": 127,
     "metadata": {},
     "output_type": "execute_result"
    }
   ],
   "source": [
    "elastic_reg.predict(sample.reshape(1, -1))"
   ]
  },
  {
   "cell_type": "code",
   "execution_count": null,
   "metadata": {},
   "outputs": [],
   "source": []
  }
 ],
 "metadata": {
  "kernelspec": {
   "display_name": "Python 3",
   "language": "python",
   "name": "python3"
  },
  "language_info": {
   "codemirror_mode": {
    "name": "ipython",
    "version": 3
   },
   "file_extension": ".py",
   "mimetype": "text/x-python",
   "name": "python",
   "nbconvert_exporter": "python",
   "pygments_lexer": "ipython3",
   "version": "3.7.6"
  }
 },
 "nbformat": 4,
 "nbformat_minor": 4
}
